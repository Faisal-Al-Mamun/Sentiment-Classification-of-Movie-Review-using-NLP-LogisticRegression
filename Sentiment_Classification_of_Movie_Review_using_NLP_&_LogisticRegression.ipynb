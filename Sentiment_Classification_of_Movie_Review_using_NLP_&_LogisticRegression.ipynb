{
  "nbformat": 4,
  "nbformat_minor": 0,
  "metadata": {
    "colab": {
      "name": "Sentiment Classification of Movie Review using NLP & LogisticRegression.ipynb",
      "provenance": [],
      "mount_file_id": "11Ex46FTPGhS3HLpZpn4mjY1vbBYqz99o",
      "authorship_tag": "ABX9TyPAXeCx7lF7WTNUSDcH9QXU",
      "include_colab_link": true
    },
    "kernelspec": {
      "name": "python3",
      "display_name": "Python 3"
    },
    "language_info": {
      "name": "python"
    }
  },
  "cells": [
    {
      "cell_type": "markdown",
      "metadata": {
        "id": "view-in-github",
        "colab_type": "text"
      },
      "source": [
        "<a href=\"https://colab.research.google.com/github/Faisal-Al-Mamun/Sentiment-Classification-of-Movie-Review-using-NLP-LogisticRegression/blob/main/Sentiment_Classification_of_Movie_Review_using_NLP_%26_LogisticRegression.ipynb\" target=\"_parent\"><img src=\"https://colab.research.google.com/assets/colab-badge.svg\" alt=\"Open In Colab\"/></a>"
      ]
    },
    {
      "cell_type": "markdown",
      "metadata": {
        "id": "r6lswnCwZzwr"
      },
      "source": [
        "### Loading Data on Google Colab from Google Drive"
      ]
    },
    {
      "cell_type": "code",
      "metadata": {
        "id": "fNtoIUYJZ2Rf"
      },
      "source": [
        "!cp -r \"/content/drive/MyDrive/Colab Notebooks/NLP/txt_sentoken.zip\" \"/content/\""
      ],
      "execution_count": 6,
      "outputs": []
    },
    {
      "cell_type": "code",
      "metadata": {
        "id": "HHekUq2sZ6QX"
      },
      "source": [
        "!unzip 'txt_sentoken.zip'"
      ],
      "execution_count": null,
      "outputs": []
    },
    {
      "cell_type": "markdown",
      "metadata": {
        "id": "H5ekK2vMKooR"
      },
      "source": [
        "Polarity Dataset v2.0 Downloaded from Internet\n",
        "Link:- https://www.cs.cornell.edu/people/pabo/movie-review-data/"
      ]
    },
    {
      "cell_type": "markdown",
      "source": [
        "### Importing the libraries"
      ],
      "metadata": {
        "id": "C6I-j2jT9aCi"
      }
    },
    {
      "cell_type": "code",
      "execution_count": 13,
      "metadata": {
        "id": "ZfHGQsAZ7_Jn",
        "colab": {
          "base_uri": "https://localhost:8080/"
        },
        "outputId": "fb5f3400-4b76-4f4a-9f1b-1780904bf0bd"
      },
      "outputs": [
        {
          "output_type": "stream",
          "name": "stdout",
          "text": [
            "[nltk_data] Downloading package stopwords to /root/nltk_data...\n",
            "[nltk_data]   Unzipping corpora/stopwords.zip.\n"
          ]
        },
        {
          "output_type": "execute_result",
          "data": {
            "text/plain": [
              "True"
            ]
          },
          "metadata": {},
          "execution_count": 13
        }
      ],
      "source": [
        "import numpy as np\n",
        "import re\n",
        "import pickle \n",
        "import nltk\n",
        "from nltk.corpus import stopwords\n",
        "\n",
        "from sklearn.datasets import load_files\n",
        "from sklearn.feature_extraction.text import TfidfVectorizer\n",
        "from sklearn.model_selection import train_test_split\n",
        "from sklearn.linear_model import LogisticRegression\n",
        "from sklearn.metrics import confusion_matrix, classification_report\n",
        "\n",
        "import seaborn as sn\n",
        "import matplotlib.pyplot as plt\n",
        "\n",
        "nltk.download('stopwords')"
      ]
    },
    {
      "cell_type": "markdown",
      "source": [
        "### Importing the dataset"
      ],
      "metadata": {
        "id": "X5U6Y6AU_ejN"
      }
    },
    {
      "cell_type": "code",
      "source": [
        "reviews = load_files('txt_sentoken/')\n",
        "X, y = reviews.data, reviews.target"
      ],
      "metadata": {
        "id": "D5UsbZh3_iRU"
      },
      "execution_count": 9,
      "outputs": []
    },
    {
      "cell_type": "markdown",
      "source": [
        "### Creating the corpus\n"
      ],
      "metadata": {
        "id": "vp47lK6g_20V"
      }
    },
    {
      "cell_type": "code",
      "source": [
        "corpus = []\n",
        "for i in range(0, 2000):\n",
        "    review = re.sub(r'\\W', ' ', str(X[i]))\n",
        "    review = review.lower()\n",
        "    review = re.sub(r'^br$', ' ', review)\n",
        "    review = re.sub(r'\\s+br\\s+',' ',review)\n",
        "    review = re.sub(r'\\s+[a-z]\\s+', ' ',review)\n",
        "    review = re.sub(r'^b\\s+', '', review)\n",
        "    review = re.sub(r'\\s+', ' ', review)\n",
        "    corpus.append(review) "
      ],
      "metadata": {
        "id": "dCrpX14l_5fx"
      },
      "execution_count": 11,
      "outputs": []
    },
    {
      "cell_type": "markdown",
      "source": [
        "### Creating the Tf-Idf model \n"
      ],
      "metadata": {
        "id": "0hhYTVS9AKeB"
      }
    },
    {
      "cell_type": "code",
      "source": [
        "vectorizer = TfidfVectorizer(max_features = 2000, min_df = 3, max_df = 0.6, stop_words = stopwords.words('english'))\n",
        "X = vectorizer.fit_transform(corpus).toarray()"
      ],
      "metadata": {
        "id": "1-8ubuQGAM3K"
      },
      "execution_count": 14,
      "outputs": []
    },
    {
      "cell_type": "markdown",
      "source": [
        "### Splitting the dataset into the Training set and Test set\n",
        "\n"
      ],
      "metadata": {
        "id": "EYZcWi-yAgI8"
      }
    },
    {
      "cell_type": "code",
      "source": [
        "X_train, X_test, y_train, y_test = train_test_split(X, y, test_size = 0.20, random_state = 0)"
      ],
      "metadata": {
        "id": "TYZMvjGyAiaN"
      },
      "execution_count": 15,
      "outputs": []
    },
    {
      "cell_type": "markdown",
      "source": [
        "### Training the classifier\n"
      ],
      "metadata": {
        "id": "4YMQK8WfA2zB"
      }
    },
    {
      "cell_type": "code",
      "source": [
        "classifier = LogisticRegression()\n",
        "classifier.fit(X_train, y_train)"
      ],
      "metadata": {
        "colab": {
          "base_uri": "https://localhost:8080/"
        },
        "id": "vuHepmCMA5sP",
        "outputId": "657598f2-ebeb-4ada-be63-cccc3e3ee0f9"
      },
      "execution_count": 16,
      "outputs": [
        {
          "output_type": "execute_result",
          "data": {
            "text/plain": [
              "LogisticRegression()"
            ]
          },
          "metadata": {},
          "execution_count": 16
        }
      ]
    },
    {
      "cell_type": "markdown",
      "source": [
        "### Testing model performance\n"
      ],
      "metadata": {
        "id": "3orzXU5CBFx7"
      }
    },
    {
      "cell_type": "code",
      "source": [
        "y_pred = classifier.predict(X_test)"
      ],
      "metadata": {
        "id": "3DBXJGesBH7b"
      },
      "execution_count": 17,
      "outputs": []
    },
    {
      "cell_type": "markdown",
      "source": [
        "### F1 Score and Confusion Matrix"
      ],
      "metadata": {
        "id": "iRH7G68VBW7N"
      }
    },
    {
      "cell_type": "code",
      "source": [
        "CM = confusion_matrix(y_test, y_pred)"
      ],
      "metadata": {
        "id": "jKftlI_BBabN"
      },
      "execution_count": 23,
      "outputs": []
    },
    {
      "cell_type": "code",
      "source": [
        "total_correct_pred = CM[0][0]+CM[1][1]\n",
        "\n",
        "print(\"Total Correct Prediction:\",total_correct_pred)\n",
        "\n",
        "Accuracy = total_correct_pred/4\n",
        "\n",
        "print(\"Test Accuracy:\",Accuracy)"
      ],
      "metadata": {
        "colab": {
          "base_uri": "https://localhost:8080/"
        },
        "id": "tsyq8zt5GYfL",
        "outputId": "51a07486-3b7e-4fa2-8167-c94e038a257f"
      },
      "execution_count": 27,
      "outputs": [
        {
          "output_type": "stream",
          "name": "stdout",
          "text": [
            "Total Correct Prediction: 339\n",
            "Test Accuracy: 84.75\n"
          ]
        }
      ]
    },
    {
      "cell_type": "code",
      "source": [
        "class_names = ['Negative Review', 'Positive Review']\n",
        "\n",
        "print(classification_report(y_test, y_pred, target_names=class_names))   "
      ],
      "metadata": {
        "colab": {
          "base_uri": "https://localhost:8080/"
        },
        "id": "5Js06z8JG3YI",
        "outputId": "586a4707-79a9-433c-8a9f-ccb3ab801709"
      },
      "execution_count": 29,
      "outputs": [
        {
          "output_type": "stream",
          "name": "stdout",
          "text": [
            "                 precision    recall  f1-score   support\n",
            "\n",
            "Negative Review       0.89      0.81      0.85       208\n",
            "Positive Review       0.81      0.89      0.85       192\n",
            "\n",
            "       accuracy                           0.85       400\n",
            "      macro avg       0.85      0.85      0.85       400\n",
            "   weighted avg       0.85      0.85      0.85       400\n",
            "\n"
          ]
        }
      ]
    },
    {
      "cell_type": "code",
      "source": [
        "ax = plt.axes()\n",
        "sn.heatmap(CM, annot=True, \n",
        "           cmap= \"Blues\", \n",
        "           annot_kws={\"size\": 10},\n",
        "            fmt='', \n",
        "           xticklabels=class_names, \n",
        "           yticklabels=class_names, ax = ax)\n",
        "ax.set_title('Confusion matrix')\n",
        "plt.show()"
      ],
      "metadata": {
        "colab": {
          "base_uri": "https://localhost:8080/",
          "height": 281
        },
        "id": "z4KQK42nHVLE",
        "outputId": "81b9f030-5330-4f61-8faf-01c4e6043840"
      },
      "execution_count": 30,
      "outputs": [
        {
          "output_type": "display_data",
          "data": {
            "image/png": "[encoded data removed]",
            "text/plain": [
              "<Figure size 432x288 with 2 Axes>"
            ]
          },
          "metadata": {
            "needs_background": "light"
          }
        }
      ]
    },
    {
      "cell_type": "markdown",
      "source": [
        "\n",
        "### Saving our classifier and Tfidf model for future use"
      ],
      "metadata": {
        "id": "5uhgaHeAJCdw"
      }
    },
    {
      "cell_type": "code",
      "source": [
        "with open('Sentiment Classifier.pickle','wb') as f:\n",
        "    pickle.dump(classifier,f)"
      ],
      "metadata": {
        "id": "rTMbrpb2I_1_"
      },
      "execution_count": 31,
      "outputs": []
    },
    {
      "cell_type": "code",
      "source": [
        "# Saving the Tf-Idf model\n",
        "with open('tfidfmodel.pickle','wb') as f:\n",
        "    pickle.dump(vectorizer,f)"
      ],
      "metadata": {
        "id": "iGTnhKhSJyqY"
      },
      "execution_count": 35,
      "outputs": []
    },
    {
      "cell_type": "markdown",
      "source": [
        "### Using our classifier and Tfidf model\n"
      ],
      "metadata": {
        "id": "a6L8JKB7JNOF"
      }
    },
    {
      "cell_type": "code",
      "source": [
        "with open('Sentiment Classifier.pickle','rb') as f:\n",
        "    clf = pickle.load(f)"
      ],
      "metadata": {
        "id": "bRZkLxg5JPTq"
      },
      "execution_count": 34,
      "outputs": []
    },
    {
      "cell_type": "code",
      "source": [
        "with open('tfidfmodel.pickle','rb') as f:\n",
        "    tfidf = pickle.load(f)"
      ],
      "metadata": {
        "id": "1iI0DlrsJ2Hw"
      },
      "execution_count": 36,
      "outputs": []
    },
    {
      "cell_type": "markdown",
      "source": [
        "### Single Prediction Check"
      ],
      "metadata": {
        "id": "Qoyl8OD4JimG"
      }
    },
    {
      "cell_type": "code",
      "source": [
        "sample = [\"This is the worst movie I've ever watched.\"]\n",
        "sample = tfidf.transform(sample).toarray()\n",
        "sentiment = clf.predict(sample)\n",
        "\n",
        "print(sentiment)\n",
        "\n",
        "if sentiment == 1:\n",
        "  print(\"Postive Review\")\n",
        "else:\n",
        " print(\"Negative Review\")"
      ],
      "metadata": {
        "colab": {
          "base_uri": "https://localhost:8080/"
        },
        "id": "A1AJX6pgJoZi",
        "outputId": "782344f9-93f0-4fd8-8168-a13d0e218faf"
      },
      "execution_count": 40,
      "outputs": [
        {
          "output_type": "stream",
          "name": "stdout",
          "text": [
            "[0]\n",
            "Negative Review\n"
          ]
        }
      ]
    }
  ]
}